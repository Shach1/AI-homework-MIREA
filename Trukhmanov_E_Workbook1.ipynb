{
 "cells": [
  {
   "cell_type": "markdown",
   "id": "abe8b876",
   "metadata": {},
   "source": [
    "# Рабочая тетрадь 1 Трухманова Е.К. ИКБО-12-22"
   ]
  },
  {
   "cell_type": "markdown",
   "id": "b87bb169",
   "metadata": {},
   "source": [
    "# 1.1. Теоретический материал – Типы данных"
   ]
  },
  {
   "cell_type": "markdown",
   "id": "910980a5",
   "metadata": {},
   "source": [
    "Типы данных\n",
    "Все типы данных в Python относятся к одной из 2-х категорий:\n",
    "изменяемые (mutable) и неизменяемые (immutable).\n",
    "Неизменяемые объекты:\n",
    "- числовые данные (int, float),\n",
    "- bool,\n",
    "- None,\n",
    "- символьные строки (class 'str'),\n",
    "- кортежи (tuple).\n",
    "Изменяемые объекты:\n",
    "- списки (list),\n",
    "- множества (set),\n",
    "- словари (dict)."
   ]
  },
  {
   "cell_type": "markdown",
   "id": "53a84307",
   "metadata": {},
   "source": [
    "# 1.2. Пример"
   ]
  },
  {
   "cell_type": "markdown",
   "id": "14ef0d39",
   "metadata": {},
   "source": [
    "Выведите на печать и определите тип переменной."
   ]
  },
  {
   "cell_type": "code",
   "execution_count": 1,
   "id": "ca556199",
   "metadata": {},
   "outputs": [
    {
     "name": "stdout",
     "output_type": "stream",
     "text": [
      "39.4 | <class 'float'> \n",
      " None | <class 'NoneType'> \n",
      " ('a', 5, 12.345, (2, 'b')) | <class 'tuple'> \n",
      " [['Антонова Антонина', 34, 'ж'], ['Борисов Борис', 26, 'м']] | <class 'list'> \n",
      " {1, 2, 'title', 'content'} | <class 'set'>\n"
     ]
    }
   ],
   "source": [
    "x = 3+5.2*7\n",
    "y = None\n",
    "z = 'a', 5, 12.345, (2, 'b')\n",
    "df = [['Антонова Антонина', 34, 'ж'], ['Борисов Борис', 26, 'м']]\n",
    "A = {1, 'title', 2, 'content'}\n",
    "\n",
    "print(x, '|', type(x), '\\n',y,'|', type(y),'\\n',z,'|', type(z),'\\n', df, '|', type(df), '\\n', A, '|', type(A))"
   ]
  },
  {
   "cell_type": "markdown",
   "id": "0c4c3398",
   "metadata": {},
   "source": [
    "# 1.3. Задание"
   ]
  },
  {
   "cell_type": "markdown",
   "id": "83c8bd2d",
   "metadata": {},
   "source": [
    "Выведите на печать и определите тип переменной."
   ]
  },
  {
   "cell_type": "code",
   "execution_count": 2,
   "id": "7db50af4",
   "metadata": {},
   "outputs": [
    {
     "name": "stdout",
     "output_type": "stream",
     "text": [
      "True | <class 'bool'>\n",
      "{8, 1, 3, 7} | <class 'set'>\n",
      "{2, 4, 5, 10, 'apple'} | <class 'set'>\n",
      "set() | <class 'set'>\n",
      "('Антонова Антонина', 34, 'ж') | <class 'tuple'>\n",
      "type | <class 'str'>\n",
      "[1, 'title', 2, 'content'] | <class 'list'>\n"
     ]
    }
   ],
   "source": [
    "x = 5 >= 2\n",
    "A = {1, 3, 7, 8}\n",
    "B = {2, 4, 5, 10, 'apple'}\n",
    "C = A & B\n",
    "df = 'Антонова Антонина', 34, 'ж'\n",
    "z = 'type'\n",
    "D = [1, 'title', 2, 'content']\n",
    "\n",
    "print(x, '|', type(x))\n",
    "print(A, '|', type(A))\n",
    "print(B, '|', type(B))\n",
    "print(C, '|', type(C))\n",
    "print(df, '|', type(df))\n",
    "print(z, '|', type(z))\n",
    "print(D, '|', type(D))"
   ]
  },
  {
   "cell_type": "markdown",
   "id": "af868ffb",
   "metadata": {},
   "source": [
    "# 2.1. Теоретический материал – Условный оператор"
   ]
  },
  {
   "cell_type": "markdown",
   "id": "04ebb248",
   "metadata": {},
   "source": [
    "If – Условный оператор\n",
    "В коде часто приходится проверять выполнимость или\n",
    "невыполнимость каких-то условий. Синтаксис:\n",
    "if <условие1 (булевское выражение)> :\n",
    "<код, который выполнится, если условие верно>\n",
    "elif <условие2 (булевское выражение)>:\n",
    "<код, который выполнится, если условие1 было неверно, а\n",
    "условие2 верно>\n",
    "else:\n",
    "<код, который выполнится, если условие1 и условие2 были\n",
    "неверны>\n",
    "Обратите внимание, что код, который должен выполняться внутри\n",
    "каждого условия, записывается с отступом в 4 пробела от уровня if, elif и\n",
    "else: в питоне области видимости переменных обозначаются отступами.\n",
    "То есть, отступы позволяют понять, где начинается код,\n",
    "который должен выполняться при выполнении условия в if, и где\n",
    "заканчивается."
   ]
  },
  {
   "cell_type": "markdown",
   "id": "cb08a5c9",
   "metadata": {},
   "source": [
    "# 2.2. Пример"
   ]
  },
  {
   "cell_type": "markdown",
   "id": "6736828d",
   "metadata": {},
   "source": [
    "Вывести на экран является ли переменная х положительной,\n",
    "отрицательной или равна нулю."
   ]
  },
  {
   "cell_type": "code",
   "execution_count": 3,
   "id": "1eee8cd4",
   "metadata": {},
   "outputs": [
    {
     "name": "stdout",
     "output_type": "stream",
     "text": [
      "x положительный\n"
     ]
    }
   ],
   "source": [
    "x = 125\n",
    "if x < 0:\n",
    "    print(\"x отрицательный\")\n",
    "elif x == 0:\n",
    "    print(\"x равен нулю\")\n",
    "else:\n",
    "    print(\"x положительный\")"
   ]
  },
  {
   "cell_type": "markdown",
   "id": "e89356e8",
   "metadata": {},
   "source": [
    "# 2.3. Задание"
   ]
  },
  {
   "cell_type": "code",
   "execution_count": 11,
   "id": "1d38ce78",
   "metadata": {
    "scrolled": false
   },
   "outputs": [
    {
     "name": "stdout",
     "output_type": "stream",
     "text": [
      "10\n",
      "x принадлжеит интервалу (5, +infinity)\n"
     ]
    }
   ],
   "source": [
    "x = int(input())\n",
    "if x < -5:\n",
    "    print(\"x принадлжеит интервалу (-infinity, -5)\")\n",
    "elif  -5 <= x <= 5:\n",
    "    print(\"x принадлжеит интервалу [-5, 5]\")\n",
    "else:\n",
    "    print(\"x принадлжеит интервалу (5, +infinity)\")"
   ]
  },
  {
   "cell_type": "markdown",
   "id": "f975c8fc",
   "metadata": {},
   "source": [
    "# 3.1. Теоретический материал – Циклы, массивы, срезы"
   ]
  },
  {
   "cell_type": "markdown",
   "id": "d7dd15de",
   "metadata": {},
   "source": [
    "Циклы - for и while\n",
    "Цикл while проверяет истинность условия, и если условие истинно, то\n",
    "выполняет инструкции цикла.\n",
    "Синтаксис:\n",
    "while условие:\n",
    "инструкции\n",
    "Инструкции, которые относятся к циклу while, располагаются на\n",
    "последующих строках и должны иметь отступ от начала ключевого слова\n",
    "while.\n",
    "Цикл for проходит по набору значений, помещает каждое значение в\n",
    "переменную с которой в цикле можно производить различные действия.\n",
    "Синтаксис:\n",
    "for переменная in набор_значений:\n",
    "инструкции\n",
    "После ключевого слова for идет название переменной, в которую\n",
    "будут помещаться значения. После оператора in указывается набор значений\n",
    "и двоеточие. Инструкции, которые относятся к циклу, располагаются на\n",
    "последующих строках и должны иметь отступ.\n",
    "При создании цикла удобно пользоваться функцией range(a, b),\n",
    "которая создает последовательность чисел от a до b-1."
   ]
  },
  {
   "cell_type": "markdown",
   "id": "4ad579e6",
   "metadata": {},
   "source": [
    "# 3.2.1. Пример"
   ]
  },
  {
   "cell_type": "markdown",
   "id": "2a86338c",
   "metadata": {},
   "source": [
    "Вывести все числа от 1 до 10 с шагом 3."
   ]
  },
  {
   "cell_type": "code",
   "execution_count": 12,
   "id": "f294526f",
   "metadata": {},
   "outputs": [
    {
     "name": "stdout",
     "output_type": "stream",
     "text": [
      "1\n",
      "4\n",
      "7\n",
      "10\n"
     ]
    }
   ],
   "source": [
    "x = 1\n",
    "while x <= 10:\n",
    "    print(x)\n",
    "    x += 3"
   ]
  },
  {
   "cell_type": "markdown",
   "id": "05b5fe93",
   "metadata": {},
   "source": [
    "# 3.2.2. Пример"
   ]
  },
  {
   "cell_type": "markdown",
   "id": "e8bc71ca",
   "metadata": {},
   "source": [
    "Задан список. Напечатать все элементы списка."
   ]
  },
  {
   "cell_type": "code",
   "execution_count": 13,
   "id": "e27ffe53",
   "metadata": {},
   "outputs": [
    {
     "name": "stdout",
     "output_type": "stream",
     "text": [
      "KNN\n",
      "decision tree\n",
      "linear model\n"
     ]
    }
   ],
   "source": [
    "models = ['KNN', 'decision tree', 'linear model']\n",
    "for model in models:\n",
    "    print(model)"
   ]
  },
  {
   "cell_type": "markdown",
   "id": "a675a530",
   "metadata": {},
   "source": [
    "# 3.2.3. Пример"
   ]
  },
  {
   "cell_type": "markdown",
   "id": "9f22d764",
   "metadata": {},
   "source": [
    "Создать список от 1 до 99 с шагом 7."
   ]
  },
  {
   "cell_type": "code",
   "execution_count": 14,
   "id": "42308e6c",
   "metadata": {},
   "outputs": [
    {
     "name": "stdout",
     "output_type": "stream",
     "text": [
      "[1, 8, 15, 22, 29, 36, 43, 50, 57, 64, 71, 78, 85, 92, 99]\n"
     ]
    }
   ],
   "source": [
    "list_int = range(1, 100, 7)\n",
    "print(list(list_int))"
   ]
  },
  {
   "cell_type": "markdown",
   "id": "66840b72",
   "metadata": {},
   "source": [
    "# 3.2.4. Пример"
   ]
  },
  {
   "cell_type": "markdown",
   "id": "ad47054a",
   "metadata": {},
   "source": [
    "Вывести на экран числа от 5 до 105 с шагом 25, используя функцию\n",
    "range()"
   ]
  },
  {
   "cell_type": "code",
   "execution_count": 26,
   "id": "fcf059ca",
   "metadata": {
    "scrolled": false
   },
   "outputs": [
    {
     "name": "stdout",
     "output_type": "stream",
     "text": [
      "5\n",
      "30\n",
      "55\n",
      "80\n",
      "105\n"
     ]
    }
   ],
   "source": [
    "for i in range(5, 106, 25):\n",
    "    print(i)"
   ]
  },
  {
   "cell_type": "markdown",
   "id": "d01de288",
   "metadata": {},
   "source": [
    "# 3.2.5. Пример"
   ]
  },
  {
   "cell_type": "markdown",
   "id": "85a245a2",
   "metadata": {},
   "source": [
    "Срез. Необходимо получить каждый k-й элемент массива a, начиная с\n",
    "элемента с индексом i (включительно) и заканчивая элементом с\n",
    "индексом j (не включительно), c шагом 2. Или переставить все\n",
    "элементы в обратном порядке."
   ]
  },
  {
   "cell_type": "code",
   "execution_count": 21,
   "id": "9387d3d6",
   "metadata": {},
   "outputs": [
    {
     "name": "stdout",
     "output_type": "stream",
     "text": [
      "[2, 4, 6]\n",
      "[9, 8, 7, 6, 5, 4, 3, 2, 1]\n"
     ]
    }
   ],
   "source": [
    "a = [1,2,3,4,5,6,7,8,9]\n",
    "b = a[1:7:2]\n",
    "c = a[::-1]\n",
    "print(b)\n",
    "print(c)"
   ]
  },
  {
   "cell_type": "markdown",
   "id": "e60d87f5",
   "metadata": {},
   "source": [
    "# 3.3.1 Задание"
   ]
  },
  {
   "cell_type": "markdown",
   "id": "5c59853b",
   "metadata": {},
   "source": [
    "Выведите числа из примера на while (3.2.1) в обратном порядке."
   ]
  },
  {
   "cell_type": "code",
   "execution_count": 22,
   "id": "19a22fc6",
   "metadata": {},
   "outputs": [
    {
     "name": "stdout",
     "output_type": "stream",
     "text": [
      "10\n",
      "7\n",
      "4\n",
      "1\n"
     ]
    }
   ],
   "source": [
    "x = 10\n",
    "while x >= 1:\n",
    "    print(x)\n",
    "    x -= 3"
   ]
  },
  {
   "cell_type": "markdown",
   "id": "eed1c487",
   "metadata": {},
   "source": [
    "# 3.3.2 Задание"
   ]
  },
  {
   "cell_type": "markdown",
   "id": "d8553cfd",
   "metadata": {},
   "source": [
    "При решении задач машинного обучения часто в качестве объектов\n",
    "исследования выступает человек. Создайте список значимых\n",
    "характеристик (признаков), идентифицирующих человека. Выведите\n",
    "список на экран."
   ]
  },
  {
   "cell_type": "code",
   "execution_count": 24,
   "id": "8b079c56",
   "metadata": {},
   "outputs": [
    {
     "name": "stdout",
     "output_type": "stream",
     "text": [
      "['отзывчивость', 'адекватность', 'дружелюбие']\n"
     ]
    }
   ],
   "source": [
    "human = [\"отзывчивость\", \"адекватность\", \"дружелюбие\"]\n",
    "print(list(human))"
   ]
  },
  {
   "cell_type": "markdown",
   "id": "0aed9be8",
   "metadata": {},
   "source": [
    "# 3.3.3 Задание"
   ]
  },
  {
   "cell_type": "markdown",
   "id": "fdb40e6f",
   "metadata": {},
   "source": [
    "Создать список чисел от 2 до 15 с шагом 1"
   ]
  },
  {
   "cell_type": "code",
   "execution_count": 25,
   "id": "2ddfb22a",
   "metadata": {},
   "outputs": [
    {
     "name": "stdout",
     "output_type": "stream",
     "text": [
      "[2, 3, 4, 5, 6, 7, 8, 9, 10, 11, 12, 13, 14, 15]\n"
     ]
    }
   ],
   "source": [
    "x = range(2, 16, 1)\n",
    "print(list(x))"
   ]
  },
  {
   "cell_type": "markdown",
   "id": "75e1dbb8",
   "metadata": {},
   "source": [
    "# 3.3.4 Задание"
   ]
  },
  {
   "cell_type": "markdown",
   "id": "2210b1bd",
   "metadata": {},
   "source": [
    "Выведите числа из примера на for c функцией range() (3.2.4) в\n",
    "обратном порядке."
   ]
  },
  {
   "cell_type": "code",
   "execution_count": 31,
   "id": "153671e9",
   "metadata": {},
   "outputs": [
    {
     "name": "stdout",
     "output_type": "stream",
     "text": [
      "105\n",
      "80\n",
      "55\n",
      "30\n",
      "5\n"
     ]
    }
   ],
   "source": [
    "for i in range(105, 4, -25):\n",
    "    print(i)"
   ]
  },
  {
   "cell_type": "markdown",
   "id": "5b5c43b1",
   "metadata": {},
   "source": [
    "# 3.3.5 Задание"
   ]
  },
  {
   "cell_type": "markdown",
   "id": "38022cdd",
   "metadata": {},
   "source": [
    "Срез. Напишите код, который все элементы массива x с четными\n",
    "индексами переставит в обратном порядке. Т.е. если x = [0, 1, 2, 3, 4,\n",
    "5, 6, 7, 8, 9], то код должен сформировать [8, 1, 6, 3, 4, 5, 2, 7, 0, 9]."
   ]
  },
  {
   "cell_type": "code",
   "execution_count": 14,
   "id": "931b5cac",
   "metadata": {},
   "outputs": [
    {
     "name": "stdout",
     "output_type": "stream",
     "text": [
      "[8, 1, 6, 3, 4, 5, 2, 7, 0, 9]\n"
     ]
    }
   ],
   "source": [
    "x = [0,1,2,3,4,5,6,7,8,9]\n",
    "y = x[::]\n",
    "y[0::2] = x[-2::-2]\n",
    "\n",
    "\n",
    "print(list(y))"
   ]
  },
  {
   "cell_type": "markdown",
   "id": "9b06dbc3",
   "metadata": {},
   "source": [
    "# 4.1. Теоретический материал - Библиотеки"
   ]
  },
  {
   "cell_type": "markdown",
   "id": "03af1556",
   "metadata": {},
   "source": [
    "Машинное обучение опирается на фундаментальные понятия и законы\n",
    "математики и информатики. Библиотека математических функций (math)\n",
    "применяется при решении большинства прикладных задач анализа данных.\n",
    "Также, и некоторые другие библиотеки Python содержат математические\n",
    "функции (например, NumPy). Важную роль играет библиотека matplotlib,\n",
    "которая позволяет производить визуализацию расчетов в удобной для\n",
    "восприятия человеком форме: графики, диаграммы, гистограммы.\n",
    "Подключение библиотек – синтаксис:\n",
    "import math as m\n",
    "import numpy as np\n",
    "import matplotlib.pyplot as plt\n",
    "etc...\n",
    "Библиотеки в python содержат не только функции, позволяющие решать\n",
    "различные задачи, но и некоторые популярные константы, например число\n",
    "Эйлера."
   ]
  },
  {
   "cell_type": "markdown",
   "id": "7d0d8a5a",
   "metadata": {},
   "source": [
    "# 4.2.1 Пример"
   ]
  },
  {
   "cell_type": "markdown",
   "id": "11787e32",
   "metadata": {},
   "source": [
    "Рассчитать синус от е радиан и вывести результат на экран"
   ]
  },
  {
   "cell_type": "code",
   "execution_count": 1,
   "id": "89376991",
   "metadata": {},
   "outputs": [
    {
     "name": "stdout",
     "output_type": "stream",
     "text": [
      "0.41078129050290885\n"
     ]
    }
   ],
   "source": [
    "import math as m\n",
    "print(m.sin(m.e))"
   ]
  },
  {
   "cell_type": "markdown",
   "id": "c1ee9e32",
   "metadata": {},
   "source": [
    "# 4.2.2 Пример"
   ]
  },
  {
   "cell_type": "markdown",
   "id": "45b388f1",
   "metadata": {},
   "source": [
    "Для функции sin(𝑥𝑒^cos(𝑥)) на интервале [0;10] с шагом 0,05 построить\n",
    "график функции, закрасить площадь под ним и вычислить значение\n",
    "этой площади.\n",
    "Для вычисления площади воспользуйте функции trapz(), вычисляющей\n",
    "интеграл по правилу трапеции. Для ее корректной работы необходимо\n",
    "подключить следующие библиотеки:\n",
    "from scipy.integrate import simps\n",
    "from numpy import trapz"
   ]
  },
  {
   "cell_type": "code",
   "execution_count": 24,
   "id": "83706c2e",
   "metadata": {},
   "outputs": [
    {
     "name": "stdout",
     "output_type": "stream",
     "text": [
      "74.37010926238547\n"
     ]
    },
    {
     "data": {
      "image/png": "[encoded data removed]",
      "text/plain": [
       "<Figure size 640x480 with 1 Axes>"
      ]
     },
     "metadata": {},
     "output_type": "display_data"
    }
   ],
   "source": [
    "import numpy as np\n",
    "import matplotlib.pyplot as plt\n",
    "from scipy.integrate import simps\n",
    "from numpy import trapz\n",
    "x = np.arange(0.0, 10.1, 0.1)\n",
    "y = np.abs(np.sin(x * np.exp(np.cos(x))))\n",
    "plt.grid()\n",
    "plt.plot(x, y, c = \"r\")\n",
    "plt.fill_between(x, y)\n",
    "\n",
    "area = trapz(y)\n",
    "print(area)\n"
   ]
  },
  {
   "cell_type": "markdown",
   "id": "bf298761",
   "metadata": {},
   "source": [
    "# 4.2.3 Пример"
   ]
  },
  {
   "cell_type": "markdown",
   "id": "0de479d8",
   "metadata": {},
   "source": [
    "Дано некоторое распределение оценок в группе за экзамен. Нарисовать\n",
    "круговую и точечную диаграммы распределения."
   ]
  },
  {
   "cell_type": "code",
   "execution_count": 24,
   "id": "d5ecc9f6",
   "metadata": {},
   "outputs": [
    {
     "data": {
      "image/png": "[encoded data removed]",
      "text/plain": [
       "<Figure size 1000x700 with 1 Axes>"
      ]
     },
     "metadata": {},
     "output_type": "display_data"
    },
    {
     "data": {
      "text/plain": [
       "<matplotlib.collections.PathCollection at 0x2bf04298f70>"
      ]
     },
     "execution_count": 24,
     "metadata": {},
     "output_type": "execute_result"
    },
    {
     "data": {
      "image/png": "[encoded data removed]",
      "text/plain": [
       "<Figure size 640x480 with 1 Axes>"
      ]
     },
     "metadata": {},
     "output_type": "display_data"
    }
   ],
   "source": [
    "from matplotlib import pyplot as plt\n",
    "import numpy as np\n",
    "\n",
    "marks = ['Неуд', 'Удовл', 'Хор', 'Отл']\n",
    "\n",
    "data = [3, 7, 8, 4]\n",
    "fig = plt.figure(figsize = (10, 7))\n",
    "plt.pie(data, labels = marks)\n",
    "plt.show()\n",
    "plt.grid()\n",
    "plt.scatter(marks, data)"
   ]
  },
  {
   "cell_type": "markdown",
   "id": "1eeef46d",
   "metadata": {},
   "source": [
    "# 4.3.1 Задание"
   ]
  },
  {
   "cell_type": "markdown",
   "id": "80cdb4f1",
   "metadata": {},
   "source": [
    "Задайте массив случайных значений из интервала(0; 1).\n",
    "Рассчитайте средние и медианные значения для массива, сравните\n",
    "результаты, какие выводы можно сделать о значениях?\n",
    "Постройте точечную диаграмму рассения полученного ряда."
   ]
  },
  {
   "cell_type": "code",
   "execution_count": 79,
   "id": "388efa96",
   "metadata": {},
   "outputs": [
    {
     "name": "stdout",
     "output_type": "stream",
     "text": [
      "Медиана больше среднего значения\n",
      "Медиана:  0.64\n",
      "Среднее значение:  0.546\n"
     ]
    },
    {
     "data": {
      "text/plain": [
       "<matplotlib.collections.PathCollection at 0x2208df31100>"
      ]
     },
     "execution_count": 79,
     "metadata": {},
     "output_type": "execute_result"
    },
    {
     "data": {
      "image/png": "[encoded data removed]",
      "text/plain": [
       "<Figure size 640x480 with 1 Axes>"
      ]
     },
     "metadata": {},
     "output_type": "display_data"
    }
   ],
   "source": [
    "import numpy as np\n",
    "from matplotlib import pyplot as plt\n",
    "from random import random\n",
    "\n",
    "#round округляет до 2 знаков после зяпятой\n",
    "mas = np.array([round(random(), 2) for i in range(10)])\n",
    "#median вычисялет медиану массива\n",
    "mediana = round(np.median(mas), 3)\n",
    "sred = round(sum(mas) / len(mas), 3)\n",
    "\n",
    "if sred > mediana:\n",
    "    print(\"Среднее значение больше медианы\")\n",
    "elif mediana > sred:\n",
    "    print(\"Медиана больше среднего значения\")\n",
    "else:\n",
    "    print(\"Медиана и среднее значение равны\")\n",
    "    \n",
    "#print(mas)\n",
    "print(\"Медиана: \", mediana)\n",
    "print(\"Среднее значение: \", sred)\n",
    "\n",
    "plt.grid()\n",
    "plt.scatter(np.arange(1, 11, 1), mas)"
   ]
  },
  {
   "cell_type": "markdown",
   "id": "b7820ecb",
   "metadata": {},
   "source": [
    "# 4.3.2 Задание"
   ]
  },
  {
   "cell_type": "markdown",
   "id": "a3c081c6",
   "metadata": {},
   "source": [
    "Дана функция:\n",
    "sqrt(1 + e^sqrt(x) + cos(x^2)) / |1 - sin^3(x)| + ln|2x|\n",
    "Создать массив из 10 значений\n",
    "функции (𝑥, например, изменяется от 1 до 10). Выделить срез первой\n",
    "половины массива и построить графики для основного массива –\n",
    "линейный и для среза – точечный"
   ]
  },
  {
   "cell_type": "code",
   "execution_count": 25,
   "id": "d932c59b",
   "metadata": {},
   "outputs": [
    {
     "data": {
      "text/plain": [
       "<matplotlib.collections.PathCollection at 0x2bf0437bb80>"
      ]
     },
     "execution_count": 25,
     "metadata": {},
     "output_type": "execute_result"
    },
    {
     "data": {
      "image/png": "[encoded data removed]",
      "text/plain": [
       "<Figure size 1000x600 with 2 Axes>"
      ]
     },
     "metadata": {},
     "output_type": "display_data"
    }
   ],
   "source": [
    "import numpy as np\n",
    "import math as m\n",
    "from matplotlib import pyplot as plt\n",
    "xs = np.arange(1, 11, 1)\n",
    "#print(list(xs))\n",
    "funk = []\n",
    "\n",
    "for x in range(1, 11):\n",
    "    funk.append((m.sqrt(1 + m.exp(m.sqrt(x)) + m.cos(m.pow(x, 2))) / m.fabs(1 - m.pow(m.sin(x), 3))) + m.log(2 * x))\n",
    "\n",
    "#funk(x) = (m.sqrt(1 + m.exp(m.sqrt(x)) + m.cos(m.pow(x, 2))) / m.fabs(1 - m.pow(m.sin(x), 3))) + m.log(2 * x)\n",
    "#print(list(funk))\n",
    "\n",
    "mas1 = funk[0:5]\n",
    "\n",
    "plt.figure(figsize=(10,6))\n",
    "\n",
    "plt.subplot(1, 2, 1)\n",
    "plt.grid()\n",
    "plt.plot(xs, funk, c = \"r\")\n",
    "\n",
    "plt.subplot(1, 2, 2)\n",
    "plt.grid()\n",
    "plt.scatter(xs[0:5], mas1)\n"
   ]
  },
  {
   "cell_type": "markdown",
   "id": "05c74238",
   "metadata": {},
   "source": [
    "# 4.3.3 Задание"
   ]
  },
  {
   "cell_type": "markdown",
   "id": "b409b607",
   "metadata": {},
   "source": [
    "Дана функция |cos(xe^(cos(x) + ln(x + 1)))| Построить график на\n",
    "интервале (0,10) с шагом 1 с заливкой площади и найти эту площадь\n",
    "под ним. Для вычисления площади воспользуйте функции trapz(),\n",
    "вычисляющей интеграл по правилу трапеции.\n",
    "Для ее корректной работы необходимо подключить следующие\n",
    "библиотеки:\n",
    "from scipy.integrate import simps\n",
    "from numpy import trapz"
   ]
  },
  {
   "cell_type": "code",
   "execution_count": 2,
   "id": "57f389c5",
   "metadata": {},
   "outputs": [
    {
     "name": "stdout",
     "output_type": "stream",
     "text": [
      "5.281433013197276\n"
     ]
    },
    {
     "data": {
      "image/png": "[encoded data removed]",
      "text/plain": [
       "<Figure size 640x480 with 1 Axes>"
      ]
     },
     "metadata": {},
     "output_type": "display_data"
    }
   ],
   "source": [
    "import numpy as np\n",
    "import matplotlib.pyplot as plt\n",
    "from scipy.integrate import simps\n",
    "from numpy import trapz\n",
    "\n",
    "x = np.arange(1, 10, 1)\n",
    "y = np.abs(np.cos(x * np.exp(np.cos(x) + np.log(x + 1))))\n",
    "\n",
    "plt.grid()\n",
    "plt.plot(x, y, c = \"red\")\n",
    "plt.fill_between(x, y)\n",
    "\n",
    "area = trapz (y)\n",
    "print(area)"
   ]
  },
  {
   "cell_type": "markdown",
   "id": "4609c4a9",
   "metadata": {},
   "source": [
    "# 4.3.4 Задание"
   ]
  },
  {
   "cell_type": "markdown",
   "id": "61279cf0",
   "metadata": {},
   "source": [
    "Откройте статистические данные по стоимости акций Apple,\n",
    "Microsoft, Google за 12 месяцев 2021 г. Постройте 3 графика на\n",
    "плоскости и оцените их динамику. Подумайте, как можно улучшить\n",
    "читаемость результатов.\n",
    "Для начальных данных допустимо использовать следующий ресурс:\n",
    "https://finance.yahoo.com"
   ]
  },
  {
   "cell_type": "code",
   "execution_count": 9,
   "id": "4d54b7cc",
   "metadata": {},
   "outputs": [
    {
     "data": {
      "text/plain": [
       "[<matplotlib.lines.Line2D at 0x213ffc1c880>]"
      ]
     },
     "execution_count": 9,
     "metadata": {},
     "output_type": "execute_result"
    },
    {
     "data": {
      "image/png": "[encoded data removed]",
      "text/plain": [
       "<Figure size 640x480 with 1 Axes>"
      ]
     },
     "metadata": {},
     "output_type": "display_data"
    }
   ],
   "source": [
    "import numpy as np\n",
    "import matplotlib.pyplot as plt\n",
    "\n",
    "months = np.arange(1, 13, 1)\n",
    "data_apple  = [131.96, 121.26, 122.15, 131.46, 124.61, 136.96, 145.86, 151.83, 141.5,  149.8,  165.3,  177.57]\n",
    "data_micros = [231.96, 232.38, 231.85, 252.18, 249.68, 270.9,  284.91, 301.88, 281.92, 331.62, 330.59, 339.32]\n",
    "data_google = [91.37,  101.1,  103.13, 117.68, 117.84, 122.09, 134.73, 144.7,  133.68, 148.05, 141.9,  144.85]\n",
    "\n",
    "plt.grid()\n",
    "plt.plot(months, data_apple, ':r')\n",
    "plt.plot(months, data_micros, '--g')\n",
    "plt.plot(months, data_google, 'y')"
   ]
  },
  {
   "cell_type": "markdown",
   "id": "d7eaae35",
   "metadata": {},
   "source": [
    "# 4.3.5 Задание"
   ]
  },
  {
   "cell_type": "markdown",
   "id": "da373418",
   "metadata": {},
   "source": [
    "Создайте простейший калькулятор, включающий основные действия\n",
    "для двух переменных ′ + ′, ′ − ′, ′ ∙ ′, ′ ÷ ′, а также вычисление\n",
    "следующих функций: 𝑒^(𝑥+𝑦), sin(𝑥 + 𝑦) , cos(𝑥 + 𝑦) , 𝑥^𝑦."
   ]
  },
  {
   "cell_type": "code",
   "execution_count": 11,
   "id": "d03d7de0",
   "metadata": {},
   "outputs": [
    {
     "name": "stdout",
     "output_type": "stream",
     "text": [
      "Введите первую переменную: 2\n",
      "Введите вторую переменную: 5\n",
      "x + y =  7.0\n",
      "x - y =  -3.0\n",
      "x * y =  10.0\n",
      "x / y =  0.4\n",
      "𝑒^(𝑥+𝑦) =  1096.6331584284585\n",
      "sin(𝑥+𝑦) =  0.6569865987187891\n",
      "cos(𝑥+𝑦) =  0.7539022543433046\n",
      "x^y =  32.0\n"
     ]
    }
   ],
   "source": [
    "import math as m\n",
    "x = float(input(\"Введите первую переменную: \"))\n",
    "y = float(input(\"Введите вторую переменную: \"))\n",
    "\n",
    "print(\"x + y = \", x + y)\n",
    "print(\"x - y = \", x - y)\n",
    "print(\"x * y = \", x * y)\n",
    "print(\"x / y = \", x / y)\n",
    "print(\"𝑒^(𝑥+𝑦) = \", m.exp(x + y))\n",
    "print(\"sin(𝑥+𝑦) = \", m.sin(x + y))\n",
    "print(\"cos(𝑥+𝑦) = \", m.cos(x + y))\n",
    "print(\"x^y = \", m.pow(x, y))\n"
   ]
  }
 ],
 "metadata": {
  "kernelspec": {
   "display_name": "Python 3 (ipykernel)",
   "language": "python",
   "name": "python3"
  },
  "language_info": {
   "codemirror_mode": {
    "name": "ipython",
    "version": 3
   },
   "file_extension": ".py",
   "mimetype": "text/x-python",
   "name": "python",
   "nbconvert_exporter": "python",
   "pygments_lexer": "ipython3",
   "version": "3.9.13"
  }
 },
 "nbformat": 4,
 "nbformat_minor": 5
}
